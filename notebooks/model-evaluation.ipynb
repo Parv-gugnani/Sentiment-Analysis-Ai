{
 "cells": [
  {
   "cell_type": "code",
   "execution_count": null,
   "metadata": {},
   "outputs": [],
   "source": [
    "import pandas as pd\n",
    "from sklearn.metrics import accuracy_score\n",
    "\n",
    "test_data = pd.read_csv('../data/processed_data/test.csv')\n",
    "\n",
    "X_test_vect = vectorizer.transform(test_data['text'])\n",
    "\n",
    "test_preds = model.predict(X_test_vect)\n",
    "test_accuracy = accuracy_score(test_data['label'], test_preds)\n",
    "print(\"Test Accuracy:\", test_accuracy)\n"
   ]
  }
 ],
 "metadata": {
  "language_info": {
   "name": "python"
  }
 },
 "nbformat": 4,
 "nbformat_minor": 2
}
