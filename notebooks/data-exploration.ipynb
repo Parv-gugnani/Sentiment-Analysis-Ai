{
 "cells": [
  {
   "cell_type": "code",
   "execution_count": null,
   "metadata": {},
   "outputs": [],
   "source": [
    "\n",
    "import pandas as pd\n",
    "\n",
    "positive_reviews = pd.read_csv('../data/raw_data/positive_reviews.txt', header=None, names=['text'])\n",
    "negative_reviews = pd.read_csv('../data/raw_data/negative_reviews.txt', header=None, names=['text'])\n",
    "\n",
    "print(\"Positive Reviews:\")\n",
    "print(positive_reviews.head())\n",
    "print(\"\\nNegative Reviews:\")\n",
    "print(negative_reviews.head())\n"
   ]
  }
 ],
 "metadata": {
  "language_info": {
   "name": "python"
  }
 },
 "nbformat": 4,
 "nbformat_minor": 2
}
